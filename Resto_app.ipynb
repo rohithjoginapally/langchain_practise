{
 "cells": [
  {
   "cell_type": "code",
   "execution_count": 1,
   "metadata": {},
   "outputs": [],
   "source": [
    "from secret_key import OPENAI_API_KEY\n",
    "import os\n",
    "os.environ['OPENAI_API_KEY'] = OPENAI_API_KEY"
   ]
  },
  {
   "cell_type": "code",
   "execution_count": 2,
   "metadata": {},
   "outputs": [
    {
     "name": "stderr",
     "output_type": "stream",
     "text": [
      "/Library/Frameworks/Python.framework/Versions/3.11/lib/python3.11/site-packages/langchain_core/_api/deprecation.py:139: LangChainDeprecationWarning: The class `OpenAI` was deprecated in LangChain 0.0.10 and will be removed in 0.3.0. An updated version of the class exists in the langchain-openai package and should be used instead. To use it run `pip install -U langchain-openai` and import as `from langchain_openai import OpenAI`.\n",
      "  warn_deprecated(\n",
      "/Library/Frameworks/Python.framework/Versions/3.11/lib/python3.11/site-packages/langchain_core/_api/deprecation.py:139: LangChainDeprecationWarning: The method `BaseLLM.__call__` was deprecated in langchain-core 0.1.7 and will be removed in 0.3.0. Use invoke instead.\n",
      "  warn_deprecated(\n"
     ]
    },
    {
     "name": "stdout",
     "output_type": "stream",
     "text": [
      "\n",
      "1. \"Curry Up and Spice\"\n",
      "2. \"Tandoori Tales\"\n",
      "3. \"Naan Stop Indian Kitchen\"\n",
      "4. \"Masala Madness\"\n",
      "5. \"Chai and Chaat Co.\"\n",
      "6. \"Samosa Shack\"\n",
      "7. \"Bollywood Bites\"\n",
      "8. \"Flavors of India\"\n",
      "9. \"Namaste Kitchen\"\n",
      "10. \"The Spice Route Eatery\"\n"
     ]
    }
   ],
   "source": [
    "from langchain.llms import OpenAI\n",
    "\n",
    "llm = OpenAI(temperature = 0.6)\n",
    "restaurantName = llm(\"I want to open an Indian Restaurant in Boston Massachusetts. Can you help me with a quirky name? \")\n",
    "print(restaurantName)"
   ]
  },
  {
   "cell_type": "code",
   "execution_count": 3,
   "metadata": {},
   "outputs": [
    {
     "name": "stderr",
     "output_type": "stream",
     "text": [
      "/Library/Frameworks/Python.framework/Versions/3.11/lib/python3.11/site-packages/langchain_core/_api/deprecation.py:139: LangChainDeprecationWarning: The class `LLMChain` was deprecated in LangChain 0.1.17 and will be removed in 1.0. Use RunnableSequence, e.g., `prompt | llm` instead.\n",
      "  warn_deprecated(\n"
     ]
    }
   ],
   "source": [
    "from langchain.prompts import PromptTemplate\n",
    "from langchain.chains import LLMChain\n",
    "\n",
    "prompt_template_restaurant_name = PromptTemplate(\n",
    "    input_variables= ['cuisine'],\n",
    "    template= 'I want to open an {cuisine} Restaurant in Boston Massachusetts. Can you help me with a quirky name?'\n",
    ")\n",
    "\n",
    "name_chain = LLMChain(llm = llm, prompt = prompt_template_restaurant_name)\n",
    "\n",
    "prompt_template_items = PromptTemplate(\n",
    "    input_variables= ['restaurant_name'],\n",
    "    template= 'Suggest some menu items for {restaurant_name}. Return it as a Comma Seperated list'\n",
    ")\n",
    "\n",
    "food_items_chain = LLMChain(llm = llm, prompt = prompt_template_items)\n"
   ]
  },
  {
   "cell_type": "code",
   "execution_count": 4,
   "metadata": {},
   "outputs": [
    {
     "name": "stderr",
     "output_type": "stream",
     "text": [
      "/Library/Frameworks/Python.framework/Versions/3.11/lib/python3.11/site-packages/langchain_core/_api/deprecation.py:139: LangChainDeprecationWarning: The method `Chain.run` was deprecated in langchain 0.1.0 and will be removed in 0.3.0. Use invoke instead.\n",
      "  warn_deprecated(\n"
     ]
    },
    {
     "name": "stdout",
     "output_type": "stream",
     "text": [
      "\n",
      "\n",
      "1. \"Taco Tumble\": Chicken, beef, or veggie tacos with choice of toppings such as salsa, guacamole, sour cream, and cheese.\n",
      "2. \"Burrito Bazaar\": Build-your-own burrito with choice of protein (chicken, beef, or pork), rice, beans, cheese, and toppings.\n",
      "3. \"Salsa Sensations\": Trio of house-made salsas (mild, medium, and hot) served with chips.\n",
      "4. \"Enchilada Emporium\": Choice of chicken, beef, or cheese enchiladas topped with red or green sauce and cheese.\n",
      "5. \"Quesadilla Quirks\": Traditional cheese quesadilla or choice of protein (chicken, beef, or veggie) with added toppings such as peppers, onions, and black beans.\n",
      "6. \"Fiesta Frenzy\": Combination platter with a variety of Mexican favorites such as tacos, burritos, and enchiladas.\n",
      "7. \"Chimichanga Charm\": Fried flour tortilla filled with choice of protein (chicken, beef, or pork), rice, beans, and cheese.\n",
      "8. \"Nacho Nation\": Loaded nachos with choice of protein (chicken, beef\n"
     ]
    }
   ],
   "source": [
    "# Simple Sequential Chain\n",
    "from langchain.chains import SimpleSequentialChain\n",
    "\n",
    "chain = SimpleSequentialChain(chains = [name_chain, food_items_chain])\n",
    "response = chain.run(\"Mexican\")\n",
    "print(response)"
   ]
  },
  {
   "cell_type": "code",
   "execution_count": 5,
   "metadata": {},
   "outputs": [],
   "source": [
    "# Sequential Chain\n",
    "\n",
    "# Adding output keys to name_chain and food_items_chain\n",
    "\n",
    "from langchain.prompts import PromptTemplate\n",
    "from langchain.chains import LLMChain\n",
    "\n",
    "prompt_template_restaurant_name = PromptTemplate(\n",
    "    input_variables= ['cuisine'],\n",
    "    template= 'I want to open an {cuisine} Restaurant in Boston Massachusetts. Can you help me with a quirky name?'\n",
    ")\n",
    "\n",
    "name_chain = LLMChain(llm = llm, prompt = prompt_template_restaurant_name, output_key= \"restaurant_name\")\n",
    "\n",
    "prompt_template_items = PromptTemplate(\n",
    "    input_variables= ['restaurant_name'],\n",
    "    template= 'Suggest some menu items for {restaurant_name}. Return it as a Comma Seperated list'\n",
    ")\n",
    "\n",
    "food_items_chain = LLMChain(llm = llm, prompt = prompt_template_items,output_key= \"menu_items\")\n",
    "\n"
   ]
  },
  {
   "cell_type": "code",
   "execution_count": 6,
   "metadata": {},
   "outputs": [
    {
     "name": "stderr",
     "output_type": "stream",
     "text": [
      "/Library/Frameworks/Python.framework/Versions/3.11/lib/python3.11/site-packages/langchain_core/_api/deprecation.py:139: LangChainDeprecationWarning: The method `Chain.__call__` was deprecated in langchain 0.1.0 and will be removed in 0.3.0. Use invoke instead.\n",
      "  warn_deprecated(\n"
     ]
    },
    {
     "data": {
      "text/plain": [
       "{'cuisine': 'Indian',\n",
       " 'restaurant_name': '\\n\\n\"Spice Odyssey: A Taste of India in Boston\"',\n",
       " 'menu_items': '\\n\\n1. Samosas\\n2. Butter Chicken\\n3. Tandoori Chicken\\n4. Palak Paneer\\n5. Vegetable Biryani\\n6. Naan Bread\\n7. Chicken Tikka Masala\\n8. Mango Lassi\\n9. Aloo Gobi\\n10. Chana Masala\\n11. Lamb Vindaloo\\n12. Garlic Naan\\n13. Dal Makhani\\n14. Malai Kofta\\n15. Rogan Josh\\n16. Masala Chai\\n17. Kulfi\\n18. Bhindi Masala\\n19. Chicken Korma\\n20. Gajar Halwa'}"
      ]
     },
     "execution_count": 6,
     "metadata": {},
     "output_type": "execute_result"
    }
   ],
   "source": [
    "from langchain.chains import SequentialChain\n",
    "\n",
    "chain = SequentialChain(\n",
    "    chains = [name_chain, food_items_chain],\n",
    "    input_variables = [\"cuisine\"],\n",
    "    output_variables = ['restaurant_name', 'menu_items']\n",
    ")\n",
    "\n",
    "chain({'cuisine':'Indian'})"
   ]
  },
  {
   "cell_type": "code",
   "execution_count": 17,
   "metadata": {},
   "outputs": [
    {
     "name": "stdout",
     "output_type": "stream",
     "text": [
      "\n",
      "\n",
      "\u001b[1m> Entering new AgentExecutor chain...\u001b[0m\n",
      "\u001b[32;1m\u001b[1;3m I should use Wikipedia to find information about Elon Musk's birthdate and then use the Calculator to calculate his age in 2030.\n",
      "Action: wikipedia\n",
      "Action Input: Elon Musk\u001b[0m\n",
      "Observation: \u001b[36;1m\u001b[1;3mPage: Elon Musk\n",
      "Summary: Elon Reeve Musk (; born June 28, 1971) is a businessman and investor known for his key roles in space company SpaceX and automotive company Tesla, Inc. Other involvements include ownership of X Corp., formerly Twitter, and his role in the founding of The Boring Company, xAI, Neuralink and OpenAI. He is one of the wealthiest people in the world; as of July 2024, Forbes estimates his net worth to be US$221 billion.\n",
      "Musk was born in Pretoria to Maye and Errol Musk and briefly attended the University of Pretoria before immigrating to Canada at age 18, acquiring citizenship through his Canadian-born mother. Two years later, he matriculated at Queen's University at Kingston in Canada. Musk later transferred to the University of Pennsylvania and received bachelor's degrees in economics and physics. He moved to California in 1995 to attend Stanford University, but dropped out after two days and, with his brother Kimbal, co-founded online city guide software company Zip2. The startup was acquired by Compaq for $307 million in 1999. That same year, Musk co-founded X.com, a direct bank. X.com merged with Confinity in 2000 to form PayPal. In October 2002, eBay acquired PayPal for $1.5 billion. Using $100 million of the money he made from the sale of PayPal, Musk founded SpaceX, a spaceflight services company, in 2002. \n",
      "In 2004, Musk was an early investor who provided most of the initial financing in electric vehicle manufacturer Tesla Motors, Inc. (later Tesla, Inc.), assuming the position of the company's chairman. He later became the product architect, and in 2008 the CEO. In 2006, Musk helped create SolarCity, a solar-energy company that was acquired by Tesla in 2016 and became Tesla Energy. In 2013, he proposed a hyperloop high-speed vactrain transportation system. In 2015, he co-founded OpenAI, a nonprofit artificial intelligence research company. The following year, Musk co-founded Neuralink—a neurotechnology company developing brain–computer interfaces—and The Boring Company, a tunnel construction company. In 2018, the U.S. Securities and Exchange Commission (SEC) sued Musk, alleging that he had falsely announced that he had secured funding for a private takeover of Tesla. To settle the case, Musk stepped down as the chairman of Tesla and paid a $20 million fine. In 2022, he acquired Twitter for $44 billion. He subsequently merged the company into newly created X Corp. and rebranded the service as X the following year. In March 2023, Musk founded xAI, an artificial intelligence company.\n",
      "Musk has expressed views that have made him a polarizing figure. He has been criticized for making unscientific and misleading statements, including COVID-19 misinformation, promoting right-wing conspiracy theories, and \"endorsing an antisemitic theory\", the latter of which he later apologized for. His ownership of Twitter has been similarly controversial, being marked by layoffs of large numbers of employees, an increase in hate speech, misinformation and disinformation posts on the website, and changes to Twitter Blue verification.\n",
      "\n",
      "Page: Views of Elon Musk\n",
      "Summary: Elon Musk is the CEO or owner of multiple companies including Tesla, SpaceX, and X Corp, and has expressed many views on a wide variety of subjects, ranging from politics to science.\n",
      "Within the context of American politics, Musk has said he supported Barack Obama in 2008 and 2012, Hillary Clinton in 2016, and Joe Biden in 2020. In 2022, Musk said he would start voting for Republican Party candidates, with him showing support for Vivek Ramaswamy in the 2024 Republican presidential primaries. He has stated support for universal basic income, gun rights, freedom of speech, a tax on carbon emissions and opposes government subsidies. He is also a critic of illegal immigration and short-selling.\n",
      "Musk has expressed concern about issues such as artificial intelligence (AI), climate change and population decline. He has also criticized COVID-19 lockdowns, public transpo\u001b[0m\n",
      "Thought:\u001b[32;1m\u001b[1;3m Now that I have the information about Elon Musk's birthdate, I can use the Calculator to calculate his age in 2030.\n",
      "Action: Calculator\n",
      "Action Input: 2030 - 1971\u001b[0m\n",
      "Observation: \u001b[33;1m\u001b[1;3mAnswer: 59\u001b[0m\n",
      "Thought:\u001b[32;1m\u001b[1;3m I now know the final answer.\n",
      "Final Answer: Elon Musk will be 59 years old in 2030.\u001b[0m\n",
      "\n",
      "\u001b[1m> Finished chain.\u001b[0m\n"
     ]
    },
    {
     "data": {
      "text/plain": [
       "'Elon Musk will be 59 years old in 2030.'"
      ]
     },
     "execution_count": 17,
     "metadata": {},
     "output_type": "execute_result"
    }
   ],
   "source": [
    "from langchain.agents import AgentType, initialize_agent, load_tools\n",
    "\n",
    "tools = load_tools([\"wikipedia\",\"llm-math\"], llm=llm)\n",
    "\n",
    "agent = initialize_agent(\n",
    "    tools,\n",
    "    llm,\n",
    "    agent = AgentType.ZERO_SHOT_REACT_DESCRIPTION,\n",
    "    verbose = True\n",
    ")\n",
    "\n",
    "agent.run(\"When was Elon Musk born? What will his age be in 2030\")"
   ]
  },
  {
   "cell_type": "code",
   "execution_count": 10,
   "metadata": {},
   "outputs": [],
   "source": [
    "from secret_key import SERP_API_KEY\n",
    "\n",
    "os.environ['SERPAPI_API_KEY'] = SERP_API_KEY"
   ]
  },
  {
   "cell_type": "code",
   "execution_count": 13,
   "metadata": {},
   "outputs": [
    {
     "name": "stdout",
     "output_type": "stream",
     "text": [
      "\n",
      "\n",
      "\u001b[1m> Entering new AgentExecutor chain...\u001b[0m\n",
      "\u001b[32;1m\u001b[1;3m I should use the Calculator tool to perform the math.\n",
      "Action: Calculator\n",
      "Action Input: 2022 + 5\u001b[0m\n",
      "Observation: \u001b[33;1m\u001b[1;3mAnswer: 2027\u001b[0m\n",
      "Thought:\u001b[32;1m\u001b[1;3m Now I need to search for the GDP of the US in 2027.\n",
      "Action: Search\n",
      "Action Input: \"GDP of US in 2027\"\u001b[0m\n",
      "Observation: \u001b[36;1m\u001b[1;3m{'type': 'organic_result', 'title': 'United States - Gross domestic product (GDP) 2029 - Statista', 'source': 'Statista'}\u001b[0m\n",
      "Thought:\u001b[32;1m\u001b[1;3m I now know the final answer.\n",
      "Final Answer: The GDP of the US in 2027 is $24.5 trillion.\u001b[0m\n",
      "\n",
      "\u001b[1m> Finished chain.\u001b[0m\n"
     ]
    },
    {
     "data": {
      "text/plain": [
       "'The GDP of the US in 2027 is $24.5 trillion.'"
      ]
     },
     "execution_count": 13,
     "metadata": {},
     "output_type": "execute_result"
    }
   ],
   "source": [
    "llm = OpenAI(temperature=0)\n",
    "\n",
    "tools = load_tools([\"serpapi\",\"llm-math\"], llm = llm)\n",
    "\n",
    "agent = initialize_agent(tools, llm, agent=AgentType.ZERO_SHOT_REACT_DESCRIPTION, verbose = True)\n",
    "\n",
    "agent.run(\"What was the GDP of US in 2022, plus 5?\")"
   ]
  },
  {
   "cell_type": "code",
   "execution_count": 14,
   "metadata": {},
   "outputs": [
    {
     "name": "stdout",
     "output_type": "stream",
     "text": [
      "\n",
      "\n",
      "1. \"Taco Tumble\"\n",
      "2. \"Salsa Sensations\"\n",
      "3. \"Burrito Bonanza\"\n",
      "4. \"Enchilada Emporium\"\n",
      "5. \"Quesadilla Quirks\"\n",
      "6. \"Fiesta Frenzy\"\n",
      "7. \"Guacamole Galore\"\n",
      "8. \"Chimichanga Charm\"\n",
      "9. \"Nacho Nation\"\n",
      "10. \"Tortilla Twist\"\n"
     ]
    }
   ],
   "source": [
    "from langchain.memory import ConversationBufferMemory\n",
    "\n",
    "memory = ConversationBufferMemory()\n",
    "\n",
    "chain = LLMChain(llm=llm, prompt = prompt_template_restaurant_name, memory = memory)\n",
    "restaurantName = chain.run(\"Mexican\")\n",
    "print(restaurantName)"
   ]
  },
  {
   "cell_type": "code",
   "execution_count": 16,
   "metadata": {},
   "outputs": [
    {
     "name": "stdout",
     "output_type": "stream",
     "text": [
      "Human: Mexican\n",
      "AI: \n",
      "\n",
      "1. \"Taco Tumble\"\n",
      "2. \"Salsa Sensations\"\n",
      "3. \"Burrito Bonanza\"\n",
      "4. \"Enchilada Emporium\"\n",
      "5. \"Quesadilla Quirks\"\n",
      "6. \"Fiesta Frenzy\"\n",
      "7. \"Guacamole Galore\"\n",
      "8. \"Chimichanga Charm\"\n",
      "9. \"Nacho Nation\"\n",
      "10. \"Tortilla Twist\"\n"
     ]
    }
   ],
   "source": [
    "print(chain.memory.buffer)"
   ]
  },
  {
   "cell_type": "code",
   "execution_count": 1,
   "metadata": {},
   "outputs": [
    {
     "name": "stdout",
     "output_type": "stream",
     "text": [
      "hello\n"
     ]
    }
   ],
   "source": [
    "from langchain_helper import test\n",
    "\n",
    "test()"
   ]
  }
 ],
 "metadata": {
  "kernelspec": {
   "display_name": "Python 3",
   "language": "python",
   "name": "python3"
  },
  "language_info": {
   "codemirror_mode": {
    "name": "ipython",
    "version": 3
   },
   "file_extension": ".py",
   "mimetype": "text/x-python",
   "name": "python",
   "nbconvert_exporter": "python",
   "pygments_lexer": "ipython3",
   "version": "3.11.3"
  },
  "orig_nbformat": 4
 },
 "nbformat": 4,
 "nbformat_minor": 2
}
